{
 "cells": [
  {
   "cell_type": "code",
   "execution_count": 1,
   "metadata": {
    "tags": []
   },
   "outputs": [
    {
     "name": "stdout",
     "output_type": "stream",
     "text": [
      "sagemaker.config INFO - Not applying SDK defaults from location: /etc/xdg/sagemaker/config.yaml\n",
      "sagemaker.config INFO - Not applying SDK defaults from location: /home/ec2-user/.config/sagemaker/config.yaml\n",
      "sagemaker.config INFO - Not applying SDK defaults from location: /etc/xdg/sagemaker/config.yaml\n",
      "sagemaker.config INFO - Not applying SDK defaults from location: /home/ec2-user/.config/sagemaker/config.yaml\n"
     ]
    },
    {
     "data": {
      "text/html": [
       "<div>\n",
       "<style scoped>\n",
       "    .dataframe tbody tr th:only-of-type {\n",
       "        vertical-align: middle;\n",
       "    }\n",
       "\n",
       "    .dataframe tbody tr th {\n",
       "        vertical-align: top;\n",
       "    }\n",
       "\n",
       "    .dataframe thead th {\n",
       "        text-align: right;\n",
       "    }\n",
       "</style>\n",
       "<table border=\"1\" class=\"dataframe\">\n",
       "  <thead>\n",
       "    <tr style=\"text-align: right;\">\n",
       "      <th></th>\n",
       "      <th>item_id</th>\n",
       "      <th>user_id</th>\n",
       "      <th>rating</th>\n",
       "      <th>timestamp</th>\n",
       "      <th>size</th>\n",
       "      <th>fit</th>\n",
       "      <th>user_attr</th>\n",
       "      <th>model_attr</th>\n",
       "      <th>category</th>\n",
       "      <th>brand</th>\n",
       "      <th>year</th>\n",
       "      <th>split</th>\n",
       "    </tr>\n",
       "  </thead>\n",
       "  <tbody>\n",
       "    <tr>\n",
       "      <th>0</th>\n",
       "      <td>7443</td>\n",
       "      <td>Alex</td>\n",
       "      <td>4</td>\n",
       "      <td>2010-01-21 08:00:00+00:00</td>\n",
       "      <td>NaN</td>\n",
       "      <td>NaN</td>\n",
       "      <td>Small</td>\n",
       "      <td>Small</td>\n",
       "      <td>Dresses</td>\n",
       "      <td>NaN</td>\n",
       "      <td>2012</td>\n",
       "      <td>0</td>\n",
       "    </tr>\n",
       "    <tr>\n",
       "      <th>1</th>\n",
       "      <td>7443</td>\n",
       "      <td>carolyn.agan</td>\n",
       "      <td>3</td>\n",
       "      <td>2010-01-27 08:00:00+00:00</td>\n",
       "      <td>NaN</td>\n",
       "      <td>NaN</td>\n",
       "      <td>NaN</td>\n",
       "      <td>Small</td>\n",
       "      <td>Dresses</td>\n",
       "      <td>NaN</td>\n",
       "      <td>2012</td>\n",
       "      <td>0</td>\n",
       "    </tr>\n",
       "    <tr>\n",
       "      <th>2</th>\n",
       "      <td>7443</td>\n",
       "      <td>Robyn</td>\n",
       "      <td>4</td>\n",
       "      <td>2010-01-29 08:00:00+00:00</td>\n",
       "      <td>NaN</td>\n",
       "      <td>NaN</td>\n",
       "      <td>Small</td>\n",
       "      <td>Small</td>\n",
       "      <td>Dresses</td>\n",
       "      <td>NaN</td>\n",
       "      <td>2012</td>\n",
       "      <td>0</td>\n",
       "    </tr>\n",
       "    <tr>\n",
       "      <th>3</th>\n",
       "      <td>7443</td>\n",
       "      <td>De</td>\n",
       "      <td>4</td>\n",
       "      <td>2010-02-13 08:00:00+00:00</td>\n",
       "      <td>NaN</td>\n",
       "      <td>NaN</td>\n",
       "      <td>NaN</td>\n",
       "      <td>Small</td>\n",
       "      <td>Dresses</td>\n",
       "      <td>NaN</td>\n",
       "      <td>2012</td>\n",
       "      <td>0</td>\n",
       "    </tr>\n",
       "    <tr>\n",
       "      <th>4</th>\n",
       "      <td>7443</td>\n",
       "      <td>tasha</td>\n",
       "      <td>4</td>\n",
       "      <td>2010-02-18 08:00:00+00:00</td>\n",
       "      <td>NaN</td>\n",
       "      <td>NaN</td>\n",
       "      <td>Small</td>\n",
       "      <td>Small</td>\n",
       "      <td>Dresses</td>\n",
       "      <td>NaN</td>\n",
       "      <td>2012</td>\n",
       "      <td>0</td>\n",
       "    </tr>\n",
       "  </tbody>\n",
       "</table>\n",
       "</div>"
      ],
      "text/plain": [
       "   item_id       user_id  rating                  timestamp  size  fit  \\\n",
       "0     7443          Alex       4  2010-01-21 08:00:00+00:00   NaN  NaN   \n",
       "1     7443  carolyn.agan       3  2010-01-27 08:00:00+00:00   NaN  NaN   \n",
       "2     7443         Robyn       4  2010-01-29 08:00:00+00:00   NaN  NaN   \n",
       "3     7443            De       4  2010-02-13 08:00:00+00:00   NaN  NaN   \n",
       "4     7443         tasha       4  2010-02-18 08:00:00+00:00   NaN  NaN   \n",
       "\n",
       "  user_attr model_attr category brand  year  split  \n",
       "0     Small      Small  Dresses   NaN  2012      0  \n",
       "1       NaN      Small  Dresses   NaN  2012      0  \n",
       "2     Small      Small  Dresses   NaN  2012      0  \n",
       "3       NaN      Small  Dresses   NaN  2012      0  \n",
       "4     Small      Small  Dresses   NaN  2012      0  "
      ]
     },
     "execution_count": 1,
     "metadata": {},
     "output_type": "execute_result"
    }
   ],
   "source": [
    "import boto3\n",
    "import pandas as pd\n",
    "from sagemaker import get_execution_role\n",
    "\n",
    "role = get_execution_role()\n",
    "\n",
    "bucket = 'gcu-ml2-team2'\n",
    "s3client = boto3.client('s3')\n",
    "\n",
    "response = s3client.get_object(Bucket=bucket, Key='df_modcloth.csv')\n",
    "df = pd.read_csv(response['Body'])\n",
    "df.head()"
   ]
  },
  {
   "cell_type": "markdown",
   "metadata": {
    "id": "tQNMfajq2XTW"
   },
   "source": [
    "# Data Preprocessing"
   ]
  },
  {
   "cell_type": "markdown",
   "metadata": {
    "id": "0BA3MzHw2jba"
   },
   "source": [
    "## 1. Feature Selection & Handling Missing Value"
   ]
  },
  {
   "cell_type": "code",
   "execution_count": 2,
   "metadata": {
    "colab": {
     "base_uri": "https://localhost:8080/",
     "height": 423
    },
    "id": "a2uluRvor2Ls",
    "outputId": "046ed482-8f65-4802-f99e-74af7cf87602"
   },
   "outputs": [
    {
     "data": {
      "text/html": [
       "<div>\n",
       "<style scoped>\n",
       "    .dataframe tbody tr th:only-of-type {\n",
       "        vertical-align: middle;\n",
       "    }\n",
       "\n",
       "    .dataframe tbody tr th {\n",
       "        vertical-align: top;\n",
       "    }\n",
       "\n",
       "    .dataframe thead th {\n",
       "        text-align: right;\n",
       "    }\n",
       "</style>\n",
       "<table border=\"1\" class=\"dataframe\">\n",
       "  <thead>\n",
       "    <tr style=\"text-align: right;\">\n",
       "      <th></th>\n",
       "      <th>item_id</th>\n",
       "      <th>user_id</th>\n",
       "      <th>rating</th>\n",
       "      <th>fit</th>\n",
       "      <th>category</th>\n",
       "      <th>brand</th>\n",
       "      <th>year</th>\n",
       "    </tr>\n",
       "  </thead>\n",
       "  <tbody>\n",
       "    <tr>\n",
       "      <th>280</th>\n",
       "      <td>21296</td>\n",
       "      <td>Petra</td>\n",
       "      <td>5</td>\n",
       "      <td>Just right</td>\n",
       "      <td>Bottoms</td>\n",
       "      <td>ModCloth</td>\n",
       "      <td>2013</td>\n",
       "    </tr>\n",
       "    <tr>\n",
       "      <th>281</th>\n",
       "      <td>21296</td>\n",
       "      <td>ejs</td>\n",
       "      <td>4</td>\n",
       "      <td>Slightly small</td>\n",
       "      <td>Bottoms</td>\n",
       "      <td>ModCloth</td>\n",
       "      <td>2013</td>\n",
       "    </tr>\n",
       "    <tr>\n",
       "      <th>292</th>\n",
       "      <td>21296</td>\n",
       "      <td>Brandi</td>\n",
       "      <td>5</td>\n",
       "      <td>Just right</td>\n",
       "      <td>Bottoms</td>\n",
       "      <td>ModCloth</td>\n",
       "      <td>2013</td>\n",
       "    </tr>\n",
       "    <tr>\n",
       "      <th>318</th>\n",
       "      <td>21296</td>\n",
       "      <td>Momo</td>\n",
       "      <td>5</td>\n",
       "      <td>Slightly small</td>\n",
       "      <td>Bottoms</td>\n",
       "      <td>ModCloth</td>\n",
       "      <td>2013</td>\n",
       "    </tr>\n",
       "    <tr>\n",
       "      <th>323</th>\n",
       "      <td>21296</td>\n",
       "      <td>Jackie</td>\n",
       "      <td>5</td>\n",
       "      <td>Just right</td>\n",
       "      <td>Bottoms</td>\n",
       "      <td>ModCloth</td>\n",
       "      <td>2013</td>\n",
       "    </tr>\n",
       "    <tr>\n",
       "      <th>...</th>\n",
       "      <td>...</td>\n",
       "      <td>...</td>\n",
       "      <td>...</td>\n",
       "      <td>...</td>\n",
       "      <td>...</td>\n",
       "      <td>...</td>\n",
       "      <td>...</td>\n",
       "    </tr>\n",
       "    <tr>\n",
       "      <th>99879</th>\n",
       "      <td>135555</td>\n",
       "      <td>tania</td>\n",
       "      <td>5</td>\n",
       "      <td>Just right</td>\n",
       "      <td>Outerwear</td>\n",
       "      <td>ModCloth</td>\n",
       "      <td>2016</td>\n",
       "    </tr>\n",
       "    <tr>\n",
       "      <th>99880</th>\n",
       "      <td>86073</td>\n",
       "      <td>Foucault</td>\n",
       "      <td>3</td>\n",
       "      <td>Slightly small</td>\n",
       "      <td>Outerwear</td>\n",
       "      <td>ModCloth</td>\n",
       "      <td>2017</td>\n",
       "    </tr>\n",
       "    <tr>\n",
       "      <th>99882</th>\n",
       "      <td>71607</td>\n",
       "      <td>nadgee</td>\n",
       "      <td>5</td>\n",
       "      <td>Just right</td>\n",
       "      <td>Outerwear</td>\n",
       "      <td>Jack by BB Dakota</td>\n",
       "      <td>2016</td>\n",
       "    </tr>\n",
       "    <tr>\n",
       "      <th>99884</th>\n",
       "      <td>154353</td>\n",
       "      <td>roshelle</td>\n",
       "      <td>5</td>\n",
       "      <td>Just right</td>\n",
       "      <td>Outerwear</td>\n",
       "      <td>ModCloth</td>\n",
       "      <td>2018</td>\n",
       "    </tr>\n",
       "    <tr>\n",
       "      <th>99891</th>\n",
       "      <td>71607</td>\n",
       "      <td>amy</td>\n",
       "      <td>3</td>\n",
       "      <td>Slightly small</td>\n",
       "      <td>Outerwear</td>\n",
       "      <td>Jack by BB Dakota</td>\n",
       "      <td>2016</td>\n",
       "    </tr>\n",
       "  </tbody>\n",
       "</table>\n",
       "<p>17874 rows × 7 columns</p>\n",
       "</div>"
      ],
      "text/plain": [
       "       item_id   user_id  rating             fit   category  \\\n",
       "280      21296     Petra       5      Just right    Bottoms   \n",
       "281      21296       ejs       4  Slightly small    Bottoms   \n",
       "292      21296    Brandi       5      Just right    Bottoms   \n",
       "318      21296      Momo       5  Slightly small    Bottoms   \n",
       "323      21296    Jackie       5      Just right    Bottoms   \n",
       "...        ...       ...     ...             ...        ...   \n",
       "99879   135555     tania       5      Just right  Outerwear   \n",
       "99880    86073  Foucault       3  Slightly small  Outerwear   \n",
       "99882    71607    nadgee       5      Just right  Outerwear   \n",
       "99884   154353  roshelle       5      Just right  Outerwear   \n",
       "99891    71607       amy       3  Slightly small  Outerwear   \n",
       "\n",
       "                   brand  year  \n",
       "280             ModCloth  2013  \n",
       "281             ModCloth  2013  \n",
       "292             ModCloth  2013  \n",
       "318             ModCloth  2013  \n",
       "323             ModCloth  2013  \n",
       "...                  ...   ...  \n",
       "99879           ModCloth  2016  \n",
       "99880           ModCloth  2017  \n",
       "99882  Jack by BB Dakota  2016  \n",
       "99884           ModCloth  2018  \n",
       "99891  Jack by BB Dakota  2016  \n",
       "\n",
       "[17874 rows x 7 columns]"
      ]
     },
     "execution_count": 2,
     "metadata": {},
     "output_type": "execute_result"
    }
   ],
   "source": [
    "# Collaborate Filtering method uses - userId, itemId, rating\n",
    "# Content Filtering method uses - fit, year, catetory, brand\n",
    "\n",
    "# Drop features that will not be used\n",
    "df.drop(['timestamp', 'size', 'user_attr', 'model_attr', 'split'], axis=1, inplace=True)\n",
    "\n",
    "# Drop row with NaN as categorical value\n",
    "df.dropna(subset=['fit', 'brand'], inplace=True)\n",
    "\n",
    "df"
   ]
  },
  {
   "cell_type": "markdown",
   "metadata": {
    "id": "HN6ffStn2skS"
   },
   "source": [
    "## 2. Encoding Categorical Data"
   ]
  },
  {
   "cell_type": "code",
   "execution_count": 3,
   "metadata": {
    "colab": {
     "base_uri": "https://localhost:8080/",
     "height": 603
    },
    "id": "Ewgf2v9XwDoe",
    "outputId": "3bafe28a-c514-4e26-9586-0ce3a94b6f3b"
   },
   "outputs": [
    {
     "name": "stdout",
     "output_type": "stream",
     "text": [
      "['Petra' 'ejs' 'Brandi' ... 'Foucault' 'nadgee' 'roshelle']\n",
      "['Just right' 'Slightly small' 'Slightly large' 'Very small' 'Very large']\n",
      "['Bottoms' 'Dresses' 'Outerwear' 'Tops']\n",
      "['ModCloth' 'Retrolicious' 'Steve Madden' 'Ryu' 'Chi Chi London'\n",
      " 'Out of Print' 'Kin Ship' 'Jack by BB Dakota' 'Pink Martini'\n",
      " 'Miss Candyfloss' 'Emily and Fin' 'Daisey Natives' 'Hell Bunny' 'Banned'\n",
      " 'Sugarhill Boutique' 'Wrangler' 'Wendy Bird' 'Pepaloves' 'Collectif'\n",
      " 'Compania Fantastica' 'Closet London' 'Eliza J' 'BB Dakota' \"Alice's Pig\"\n",
      " 'Louche' \"Effie's Heart\" 'Miss Patina' 'Mata Traders' \"Rolla's\" 'Yumi'\n",
      " 'Blue Platypus']\n"
     ]
    },
    {
     "data": {
      "text/html": [
       "<div>\n",
       "<style scoped>\n",
       "    .dataframe tbody tr th:only-of-type {\n",
       "        vertical-align: middle;\n",
       "    }\n",
       "\n",
       "    .dataframe tbody tr th {\n",
       "        vertical-align: top;\n",
       "    }\n",
       "\n",
       "    .dataframe thead th {\n",
       "        text-align: right;\n",
       "    }\n",
       "</style>\n",
       "<table border=\"1\" class=\"dataframe\">\n",
       "  <thead>\n",
       "    <tr style=\"text-align: right;\">\n",
       "      <th></th>\n",
       "      <th>item_id</th>\n",
       "      <th>user_id</th>\n",
       "      <th>rating</th>\n",
       "      <th>fit</th>\n",
       "      <th>category</th>\n",
       "      <th>brand</th>\n",
       "      <th>year</th>\n",
       "    </tr>\n",
       "  </thead>\n",
       "  <tbody>\n",
       "    <tr>\n",
       "      <th>280</th>\n",
       "      <td>21296</td>\n",
       "      <td>Petra</td>\n",
       "      <td>5</td>\n",
       "      <td>0</td>\n",
       "      <td>0</td>\n",
       "      <td>19</td>\n",
       "      <td>2013</td>\n",
       "    </tr>\n",
       "    <tr>\n",
       "      <th>281</th>\n",
       "      <td>21296</td>\n",
       "      <td>ejs</td>\n",
       "      <td>4</td>\n",
       "      <td>2</td>\n",
       "      <td>0</td>\n",
       "      <td>19</td>\n",
       "      <td>2013</td>\n",
       "    </tr>\n",
       "    <tr>\n",
       "      <th>292</th>\n",
       "      <td>21296</td>\n",
       "      <td>Brandi</td>\n",
       "      <td>5</td>\n",
       "      <td>0</td>\n",
       "      <td>0</td>\n",
       "      <td>19</td>\n",
       "      <td>2013</td>\n",
       "    </tr>\n",
       "    <tr>\n",
       "      <th>318</th>\n",
       "      <td>21296</td>\n",
       "      <td>Momo</td>\n",
       "      <td>5</td>\n",
       "      <td>2</td>\n",
       "      <td>0</td>\n",
       "      <td>19</td>\n",
       "      <td>2013</td>\n",
       "    </tr>\n",
       "    <tr>\n",
       "      <th>323</th>\n",
       "      <td>21296</td>\n",
       "      <td>Jackie</td>\n",
       "      <td>5</td>\n",
       "      <td>0</td>\n",
       "      <td>0</td>\n",
       "      <td>19</td>\n",
       "      <td>2013</td>\n",
       "    </tr>\n",
       "    <tr>\n",
       "      <th>...</th>\n",
       "      <td>...</td>\n",
       "      <td>...</td>\n",
       "      <td>...</td>\n",
       "      <td>...</td>\n",
       "      <td>...</td>\n",
       "      <td>...</td>\n",
       "      <td>...</td>\n",
       "    </tr>\n",
       "    <tr>\n",
       "      <th>99879</th>\n",
       "      <td>135555</td>\n",
       "      <td>tania</td>\n",
       "      <td>5</td>\n",
       "      <td>0</td>\n",
       "      <td>2</td>\n",
       "      <td>19</td>\n",
       "      <td>2016</td>\n",
       "    </tr>\n",
       "    <tr>\n",
       "      <th>99880</th>\n",
       "      <td>86073</td>\n",
       "      <td>Foucault</td>\n",
       "      <td>3</td>\n",
       "      <td>2</td>\n",
       "      <td>2</td>\n",
       "      <td>19</td>\n",
       "      <td>2017</td>\n",
       "    </tr>\n",
       "    <tr>\n",
       "      <th>99882</th>\n",
       "      <td>71607</td>\n",
       "      <td>nadgee</td>\n",
       "      <td>5</td>\n",
       "      <td>0</td>\n",
       "      <td>2</td>\n",
       "      <td>13</td>\n",
       "      <td>2016</td>\n",
       "    </tr>\n",
       "    <tr>\n",
       "      <th>99884</th>\n",
       "      <td>154353</td>\n",
       "      <td>roshelle</td>\n",
       "      <td>5</td>\n",
       "      <td>0</td>\n",
       "      <td>2</td>\n",
       "      <td>19</td>\n",
       "      <td>2018</td>\n",
       "    </tr>\n",
       "    <tr>\n",
       "      <th>99891</th>\n",
       "      <td>71607</td>\n",
       "      <td>amy</td>\n",
       "      <td>3</td>\n",
       "      <td>2</td>\n",
       "      <td>2</td>\n",
       "      <td>13</td>\n",
       "      <td>2016</td>\n",
       "    </tr>\n",
       "  </tbody>\n",
       "</table>\n",
       "<p>17874 rows × 7 columns</p>\n",
       "</div>"
      ],
      "text/plain": [
       "       item_id   user_id  rating  fit  category  brand  year\n",
       "280      21296     Petra       5    0         0     19  2013\n",
       "281      21296       ejs       4    2         0     19  2013\n",
       "292      21296    Brandi       5    0         0     19  2013\n",
       "318      21296      Momo       5    2         0     19  2013\n",
       "323      21296    Jackie       5    0         0     19  2013\n",
       "...        ...       ...     ...  ...       ...    ...   ...\n",
       "99879   135555     tania       5    0         2     19  2016\n",
       "99880    86073  Foucault       3    2         2     19  2017\n",
       "99882    71607    nadgee       5    0         2     13  2016\n",
       "99884   154353  roshelle       5    0         2     19  2018\n",
       "99891    71607       amy       3    2         2     13  2016\n",
       "\n",
       "[17874 rows x 7 columns]"
      ]
     },
     "execution_count": 3,
     "metadata": {},
     "output_type": "execute_result"
    }
   ],
   "source": [
    "# Check types of categorical data\n",
    "print(df['user_id'].unique())\n",
    "print(df['fit'].unique())\n",
    "print(df['category'].unique())\n",
    "print(df['brand'].unique())\n",
    "\n",
    "\n",
    "# Convert categorcal value to numerical\n",
    "# df['user_id'] = df['user_id'].astype('category').cat.codes\n",
    "df['fit'] = df['fit'].astype('category').cat.codes  #['Just right': 0, 'Slightly small': 1, 'Slightly large': 2, 'Very small': 3, 'Very large': 4]\n",
    "df['category'] = df['category'].astype('category').cat.codes  #['Bottoms': 0, 'Dresses': 1, 'Outerwear': 2, 'Tops': 3]\n",
    "df['brand'] = df['brand'].astype('category').cat.codes\n",
    "\n",
    "df"
   ]
  },
  {
   "cell_type": "markdown",
   "metadata": {
    "id": "5iDFHWrXq029"
   },
   "source": [
    "# Model Based Filtering"
   ]
  },
  {
   "cell_type": "code",
   "execution_count": 4,
   "metadata": {},
   "outputs": [],
   "source": [
    "import numpy as np\n",
    "import pandas as pd\n",
    "from scipy.sparse import csr_matrix\n",
    "from scipy.sparse.linalg import svds\n",
    "from sklearn.metrics import mean_squared_error\n",
    "from sklearn.model_selection import train_test_split\n",
    "from sklearn.decomposition import NMF\n",
    "\n",
    "# Dataset Split: Training (70%), Validation (15%), Testing (15%)\n",
    "train_data, temp_data = train_test_split(df, test_size=0.3, random_state=42)\n",
    "validation_data, test_data = train_test_split(temp_data, test_size=0.5, random_state=42)"
   ]
  },
  {
   "cell_type": "markdown",
   "metadata": {
    "id": "VHZrZEzxBJ5j"
   },
   "source": [
    "## Implement SVD directly (Not used SVD model)"
   ]
  },
  {
   "cell_type": "code",
   "execution_count": 5,
   "metadata": {
    "id": "kutkut2Gq3UD"
   },
   "outputs": [],
   "source": [
    "# Create a user-item rating matrix (fill unrated values with 0)\n",
    "train_user_item_matrix = train_data.pivot_table(index='user_id', columns='item_id', values='rating').fillna(0)\n",
    "train_user_item_sparse = csr_matrix(train_user_item_matrix.values)\n",
    "\n",
    "# Split the matrix into three using SVD\n",
    "U_train, sigma_train, Vt_train = svds(train_user_item_sparse, k=50)\n",
    "sigma_train = np.diag(sigma_train)\n",
    "\n",
    "# Predict ratings and convert to DataFrame\n",
    "predicted_ratings_train = np.dot(np.dot(U_train, sigma_train), Vt_train) + train_user_item_matrix.mean(axis=1).values[:, np.newaxis]\n",
    "predicted_ratings_train_df = pd.DataFrame(predicted_ratings_train, index=train_user_item_matrix.index, columns=train_user_item_matrix.columns)\n",
    "\n",
    "# Clip predicted ratings to be within the range of 0 to 5\n",
    "predicted_ratings_train_df_clipped = predicted_ratings_train_df.clip(0, 5)\n",
    "\n",
    "# User-item rating matrix -> validation and test set versions\n",
    "validation_user_item_matrix = validation_data.pivot_table(index='user_id', columns='item_id', values='rating').fillna(0)\n",
    "test_user_item_matrix = test_data.pivot_table(index='user_id', columns='item_id', values='rating').fillna(0)\n"
   ]
  },
  {
   "cell_type": "markdown",
   "metadata": {
    "id": "4ZEmTSnu2BC7"
   },
   "source": [
    "## Model evaluation"
   ]
  },
  {
   "cell_type": "markdown",
   "metadata": {},
   "source": [
    "### SVD evaluation"
   ]
  },
  {
   "cell_type": "code",
   "execution_count": 6,
   "metadata": {
    "colab": {
     "base_uri": "https://localhost:8080/"
    },
    "id": "A6b0h8QRynTs",
    "outputId": "b9c96bdb-5833-4834-d8fa-b6c0c88eb809"
   },
   "outputs": [
    {
     "name": "stdout",
     "output_type": "stream",
     "text": [
      "MSE on Validation Set: 0.3118110467869254\n",
      "MSE on Test Set: 0.3352843948003167\n"
     ]
    }
   ],
   "source": [
    "# Function to calculate Mean Squared Error (MSE) for predictions\n",
    "def calculate_mse(actual_matrix, predicted_ratings_df):\n",
    "    # Find common user and item IDs between actual and predicted matrices\n",
    "    common_user_ids = actual_matrix.index.intersection(predicted_ratings_df.index)\n",
    "    common_item_ids = actual_matrix.columns.intersection(predicted_ratings_df.columns)\n",
    "    \n",
    "    # Extract predicted and actual ratings for common user and item IDs\n",
    "    predicted_ratings = predicted_ratings_df.loc[common_user_ids, common_item_ids]\n",
    "    actual_ratings = actual_matrix.loc[common_user_ids, common_item_ids]\n",
    "    \n",
    "    # Calculate MSE using the predicted and actual ratings\n",
    "    mse = mean_squared_error(actual_ratings.values.flatten(), predicted_ratings.values.flatten())\n",
    "    return mse\n",
    "\n",
    "# Calculate MSE for the validation and test datasets\n",
    "mse_validation = calculate_mse(validation_user_item_matrix, predicted_ratings_train_df)\n",
    "mse_test = calculate_mse(test_user_item_matrix, predicted_ratings_train_df)\n",
    "\n",
    "# Print the MSE values for validation and test sets\n",
    "print(\"MSE on Validation Set:\", mse_validation)\n",
    "print(\"MSE on Test Set:\", mse_test)"
   ]
  },
  {
   "cell_type": "markdown",
   "metadata": {},
   "source": [
    "### SVD (without NaN) output"
   ]
  },
  {
   "cell_type": "code",
   "execution_count": 7,
   "metadata": {},
   "outputs": [
    {
     "name": "stdout",
     "output_type": "stream",
     "text": [
      "         Actual Rating  Predicted Rating\n",
      "item_id                                 \n",
      "6454               0.0          0.453942\n",
      "21296              0.0          0.184445\n",
      "27439              0.0          0.177644\n",
      "28252              4.0          4.205979\n",
      "35525              4.0          4.253872\n",
      "...                ...               ...\n",
      "154693             0.0          0.220126\n",
      "154748             0.0          0.220126\n",
      "154749             0.0          0.219042\n",
      "155165             0.0          0.191091\n",
      "155597             0.0          0.220126\n",
      "\n",
      "[477 rows x 2 columns]\n"
     ]
    }
   ],
   "source": [
    "selected_user_id = 'Jennifer'\n",
    "\n",
    "# Check if the selected user exists in the training user-item matrix\n",
    "if selected_user_id in train_user_item_matrix.index:\n",
    "    # Actual ratings for the selected user\n",
    "    actual_ratings_user = train_user_item_matrix.loc[selected_user_id]\n",
    "\n",
    "    # Predicted ratings (using the clipped DataFrame)\n",
    "    predicted_ratings_user = predicted_ratings_train_df_clipped.loc[selected_user_id]\n",
    "\n",
    "    # Create a comparison DataFrame\n",
    "    comparison_df = pd.DataFrame({\n",
    "        'Actual Rating': actual_ratings_user,\n",
    "        'Predicted Rating': predicted_ratings_user\n",
    "    })\n",
    "    print(comparison_df)\n",
    "else:\n",
    "    print(\"Selected user not found in the training data.\")\n"
   ]
  },
  {
   "cell_type": "markdown",
   "metadata": {},
   "source": [
    "## SVD\n",
    "Drop NaN values during the training process to train the model, and retain NaN values during the validation and testing phases."
   ]
  },
  {
   "cell_type": "code",
   "execution_count": 8,
   "metadata": {},
   "outputs": [],
   "source": [
    "# Leave unrated values as NaN (do not fill with 0 to avoid negative bias)\n",
    "train_user_item_matrix = train_data.pivot_table(index='user_id', columns='item_id', values='rating', fill_value=np.nan)\n",
    "\n",
    "# Perform SVD on all the data\n",
    "train_user_item_sparse = csr_matrix(train_user_item_matrix.fillna(0).values)\n",
    "U_train, sigma_train, Vt_train = svds(train_user_item_sparse, k=50)\n",
    "sigma_train_diag_matrix = np.diag(sigma_train)\n",
    "\n",
    "# Calculate predicted ratings\n",
    "predicted_ratings = np.dot(np.dot(U_train, sigma_train_diag_matrix), Vt_train)\n",
    "\n",
    "predicted_ratings_df = pd.DataFrame(predicted_ratings, index=train_user_item_matrix.index, columns=train_user_item_matrix.columns)\n",
    "\n",
    "# Define the range for predicted ratings\n",
    "predicted_ratings_df_clipped = predicted_ratings_df.clip(0, 5)\n"
   ]
  },
  {
   "cell_type": "markdown",
   "metadata": {},
   "source": [
    "### SVD (with NaN) output"
   ]
  },
  {
   "cell_type": "code",
   "execution_count": 9,
   "metadata": {},
   "outputs": [
    {
     "name": "stdout",
     "output_type": "stream",
     "text": [
      "         Actual Rating  Predicted Rating\n",
      "item_id                                 \n",
      "6454               NaN      2.338159e-01\n",
      "21296              NaN      0.000000e+00\n",
      "27439              NaN      0.000000e+00\n",
      "28252              4.0      3.985853e+00\n",
      "35525              4.0      4.033746e+00\n",
      "...                ...               ...\n",
      "154693             NaN      4.412977e-16\n",
      "154748             NaN      8.536050e-16\n",
      "154749             NaN      0.000000e+00\n",
      "155165             NaN      0.000000e+00\n",
      "155597             NaN      4.409800e-17\n",
      "\n",
      "[477 rows x 2 columns]\n"
     ]
    }
   ],
   "source": [
    "# Compare the actual ratings and predicted ratings for 'Jennifer'\n",
    "# This code is similar to the previous one but uses a dataset with NaN values and performs the comparison.\n",
    "\n",
    "selected_user_id = 'Jennifer'\n",
    "if selected_user_id in train_user_item_matrix.index:\n",
    "    # Actual ratings for the selected user\n",
    "    actual_ratings_user = train_user_item_matrix.loc[selected_user_id]\n",
    "\n",
    "    # Use a different DataFrame for predicted ratings\n",
    "    predicted_ratings_user = predicted_ratings_df_clipped.loc[selected_user_id]\n",
    "\n",
    "    # Create a comparison DataFrame\n",
    "    comparison_df = pd.DataFrame({\n",
    "        'Actual Rating': actual_ratings_user,\n",
    "        'Predicted Rating': predicted_ratings_user\n",
    "    })\n",
    "    print(comparison_df)\n",
    "else:\n",
    "    print(\"Selected user not found in the training data.\")\n"
   ]
  },
  {
   "cell_type": "markdown",
   "metadata": {
    "id": "2gCjsxoJAcYu"
   },
   "source": [
    "## Utilize SVD class using surprise library\n",
    "When surprise is used, unrated parts are ignored and only rated parts are used for learning."
   ]
  },
  {
   "cell_type": "code",
   "execution_count": 10,
   "metadata": {
    "colab": {
     "base_uri": "https://localhost:8080/"
    },
    "id": "nW1dlQpvBl8B",
    "outputId": "d13596ad-4f1b-4087-e042-0da09c585603"
   },
   "outputs": [
    {
     "name": "stdout",
     "output_type": "stream",
     "text": [
      "Requirement already satisfied: scikit-surprise in /home/ec2-user/anaconda3/envs/tensorflow2_p310/lib/python3.10/site-packages (1.1.3)\n",
      "Requirement already satisfied: joblib>=1.0.0 in /home/ec2-user/anaconda3/envs/tensorflow2_p310/lib/python3.10/site-packages (from scikit-surprise) (1.3.2)\n",
      "Requirement already satisfied: numpy>=1.17.3 in /home/ec2-user/anaconda3/envs/tensorflow2_p310/lib/python3.10/site-packages (from scikit-surprise) (1.26.1)\n",
      "Requirement already satisfied: scipy>=1.3.2 in /home/ec2-user/anaconda3/envs/tensorflow2_p310/lib/python3.10/site-packages (from scikit-surprise) (1.11.3)\n",
      "Note: you may need to restart the kernel to use updated packages.\n"
     ]
    }
   ],
   "source": [
    "pip install scikit-surprise"
   ]
  },
  {
   "cell_type": "code",
   "execution_count": 13,
   "metadata": {
    "colab": {
     "base_uri": "https://localhost:8080/",
     "height": 434
    },
    "id": "bQWDcxuOBHtb",
    "outputId": "c48970bf-5052-4445-a5fb-a6fe8599aa0b",
    "tags": []
   },
   "outputs": [
    {
     "name": "stdout",
     "output_type": "stream",
     "text": [
      "Best MSE: 1.0253040765198127\n",
      "Best params: {'n_factors': 50, 'n_epochs': 50, 'lr_all': 0.001, 'reg_all': 0.05}\n",
      "MSE: 1.0056\n",
      "MSE: 1.0055567449339107\n",
      "    item_id  actual_rating  predicted_rating\n",
      "0    153463            5.0          4.367221\n",
      "1    126993            5.0          4.397068\n",
      "2    153520            4.0          4.224820\n",
      "3    121554            5.0          3.897666\n",
      "4    133926            5.0          4.323115\n",
      "5     28252            4.0          4.347791\n",
      "6    153597            5.0          4.440643\n",
      "7    110820            5.0          4.275310\n",
      "8     67022            5.0          4.738021\n",
      "9    119314            5.0          4.428914\n",
      "10    35525            4.0          3.864608\n",
      "11    54222            5.0          4.375229\n",
      "12   135345            4.0          4.393271\n",
      "13   113643            5.0          4.235319\n",
      "14   118020            5.0          4.593580\n"
     ]
    }
   ],
   "source": [
    "from surprise import Dataset, Reader, SVD, accuracy\n",
    "from surprise.model_selection import train_test_split, GridSearchCV\n",
    "\n",
    "reader = Reader(rating_scale=(0, 5))  # Set rating scale\n",
    "# Convert DataFrame to the Dataset format of the surprise library using the Dataset.load_from_df() method\n",
    "data = Dataset.load_from_df(df[['user_id', 'item_id', 'rating']], reader)\n",
    "\n",
    "# Set hyperparameter grid\n",
    "param_grid = {\n",
    "    'n_factors': [50, 100, 150],  # Number of dimensions for SVD\n",
    "    'n_epochs': [30, 40, 50, 60],  # Number of iterations\n",
    "    'lr_all': [0.1, 0.01, 0.001, 0.0001],  # Learning rate\n",
    "    'reg_all': [0.02, 0.05]\n",
    "}\n",
    "\n",
    "# Perform hyperparameter tuning using GridSearchCV\n",
    "gs = GridSearchCV(SVD, param_grid, measures=['mse'], cv=3)\n",
    "gs.fit(data)\n",
    "\n",
    "# Print the best MSE result and the corresponding hyperparameters\n",
    "print(f\"Best MSE: {gs.best_score['mse']}\")\n",
    "print(f\"Best params: {gs.best_params['mse']}\")\n",
    "\n",
    "# Train the SVD model with the optimal hyperparameters\n",
    "model = gs.best_estimator['mse']\n",
    "\n",
    "# Split the dataset and train the model\n",
    "trainset, testset = train_test_split(data, test_size=0.3)\n",
    "model.fit(trainset)\n",
    "\n",
    "# Predictions on the test set\n",
    "predictions = model.test(testset)\n",
    "\n",
    "# Calculate MSE\n",
    "mse = accuracy.mse(predictions)\n",
    "print(f\"MSE: {mse}\")\n",
    "\n",
    "# Choose any user for prediction validation\n",
    "selected_user_id = 'Jennifer'\n",
    "user_predictions = []\n",
    "actual_ratings = []\n",
    "\n",
    "# Extract actual and predicted ratings for the selected user\n",
    "for uid, iid, true_r, est, _ in predictions:\n",
    "    if uid == selected_user_id:\n",
    "        user_predictions.append((iid, est))\n",
    "        actual_ratings.append((iid, true_r))\n",
    "\n",
    "# Convert predicted and actual ratings into DataFrames\n",
    "predicted_ratings_df = pd.DataFrame(user_predictions, columns=['item_id', 'predicted_rating'])\n",
    "actual_ratings_df = pd.DataFrame(actual_ratings, columns=['item_id', 'actual_rating'])\n",
    "\n",
    "# Final DataFrame for comparison\n",
    "final_comparison_df = pd.merge(actual_ratings_df, predicted_ratings_df, on='item_id')\n",
    "print(final_comparison_df)\n"
   ]
  },
  {
   "cell_type": "code",
   "execution_count": null,
   "metadata": {},
   "outputs": [],
   "source": []
  }
 ],
 "metadata": {
  "colab": {
   "provenance": []
  },
  "kernelspec": {
   "display_name": "conda_tensorflow2_p310",
   "language": "python",
   "name": "conda_tensorflow2_p310"
  },
  "language_info": {
   "codemirror_mode": {
    "name": "ipython",
    "version": 3
   },
   "file_extension": ".py",
   "mimetype": "text/x-python",
   "name": "python",
   "nbconvert_exporter": "python",
   "pygments_lexer": "ipython3",
   "version": "3.10.13"
  }
 },
 "nbformat": 4,
 "nbformat_minor": 4
}
